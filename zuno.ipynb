{
 "cells": [
  {
   "cell_type": "code",
   "execution_count": null,
   "id": "43a1546d-4383-40b8-8c2a-b13087a47b88",
   "metadata": {
    "tags": []
   },
   "outputs": [],
   "source": []
  },
  {
   "cell_type": "code",
   "execution_count": null,
   "id": "7124beb8-4196-4e82-9526-3e8c1c63d267",
   "metadata": {
    "tags": []
   },
   "outputs": [],
   "source": []
  },
  {
   "cell_type": "code",
   "execution_count": null,
   "id": "ca158b19-5afe-49e9-b5a2-886c749293a6",
   "metadata": {
    "tags": []
   },
   "outputs": [],
   "source": []
  },
  {
   "cell_type": "code",
   "execution_count": null,
   "id": "f36708a8-7260-4305-8ef0-a9e8d085eb20",
   "metadata": {
    "tags": []
   },
   "outputs": [],
   "source": []
  },
  {
   "cell_type": "code",
   "execution_count": null,
   "id": "30236858-717d-4c93-a8da-1288a1300687",
   "metadata": {
    "tags": []
   },
   "outputs": [],
   "source": []
  },
  {
   "cell_type": "code",
   "execution_count": 172,
   "id": "13946a23-8023-4d54-937e-d9b5415f1596",
   "metadata": {
    "tags": []
   },
   "outputs": [],
   "source": []
  },
  {
   "cell_type": "code",
   "execution_count": null,
   "id": "8b902585-e3fd-4b07-869e-814fbba9a67c",
   "metadata": {
    "tags": []
   },
   "outputs": [],
   "source": []
  },
  {
   "cell_type": "code",
   "execution_count": null,
   "id": "04b88a08-fdab-43b2-9694-7cc1648b9296",
   "metadata": {
    "tags": []
   },
   "outputs": [],
   "source": []
  },
  {
   "cell_type": "code",
   "execution_count": null,
   "id": "1ecc565c-36be-4337-b4a6-c10d0df9a51a",
   "metadata": {
    "tags": []
   },
   "outputs": [],
   "source": []
  },
  {
   "cell_type": "code",
   "execution_count": null,
   "id": "65e42df1-3e8c-4b8f-a421-4f21ff258a0c",
   "metadata": {
    "tags": []
   },
   "outputs": [],
   "source": []
  },
  {
   "cell_type": "code",
   "execution_count": null,
   "id": "ab5c8e2b-0b1f-4b25-89cf-3a4cb6011171",
   "metadata": {
    "tags": []
   },
   "outputs": [],
   "source": []
  },
  {
   "cell_type": "code",
   "execution_count": null,
   "id": "320140c2-3fc7-446e-8ea6-20041fdb97cc",
   "metadata": {
    "tags": []
   },
   "outputs": [],
   "source": []
  },
  {
   "cell_type": "code",
   "execution_count": 174,
   "id": "2c32f7d1-e762-44eb-85cf-6724172262eb",
   "metadata": {
    "tags": []
   },
   "outputs": [
    {
     "name": "stdout",
     "output_type": "stream",
     "text": [
      "RMSE: 923.8089928600835\n",
      "R2_score: 0.992126555804455\n"
     ]
    }
   ],
   "source": [
    "#  -------------------------------------------\n",
    "\n",
    "\n",
    "###  INPUT ###\n",
    "import pandas as pd\n",
    "input_data = pd.read_csv('2023_smartFarm_AI_hackathon_dataset.csv')\n",
    "pd.set_option('display.max_columns', 1000)\n",
    "\n",
    "import numpy as np\n",
    "from sklearn.model_selection import train_test_split\n",
    "from sklearn.linear_model import LinearRegression\n",
    "# from sklearn.linear_model import Lasso\n",
    "from sklearn.preprocessing import StandardScaler\n",
    "\n",
    "\n",
    "def preprocessing(input_data):\n",
    "    input_data = input_data.sort_values([\"frmDist\",\"date\"])\n",
    "    input_data[\"date\"] = pd.to_datetime(input_data[\"date\"], format='%Y%m%d')\n",
    "\n",
    "    input_data = input_data.copy()\n",
    "    input_data[\"frmYearWeek\"] = input_data.date.dt.strftime('%Y-%W')\n",
    "    input_data[\"frmYear\"] = input_data.date.dt.strftime('%Y')\n",
    "    input_data[\"frmWeek\"] = input_data.date.dt.strftime('%W').astype(int)\n",
    "    input_data = input_data.sort_values(\"frmYearWeek\")\n",
    "\n",
    "\n",
    "    dd = input_data.groupby(['frmDist', 'frmYearWeek']).agg(\n",
    "        Y=('outtrn_cumsum', 'max'),\n",
    "        Sun_Min=('acSlrdQy', 'min'),\n",
    "        Sun_Max=('acSlrdQy', 'max'),\n",
    "        Sun_Mean=('acSlrdQy', 'mean'),\n",
    "        INTP_Min=('inTp', 'min'),\n",
    "        INTP_Max=('inTp', 'max'),\n",
    "        INTP_Mean=('inTp', 'mean'),\n",
    "        OUTTP_Min=('outTp', 'min'),\n",
    "        OUTTP_Max=('outTp', 'max'),\n",
    "        OUTTP_Mean=('outTp', 'mean'),\n",
    "        minINHD=('inHd', 'min'),\n",
    "        maxINHD=('inHd', 'max'),\n",
    "        meanINHD=('inHd', 'mean'),\n",
    "        minCO2=('inCo2', 'min'),\n",
    "        maxCO2=('inCo2', 'max'),\n",
    "        meanCO2=('inCo2', 'mean'),\n",
    "        minlC=('lefCunt', 'min'),\n",
    "        maxlC=('lefCunt', 'max'),\n",
    "        meanlC=('lefCunt', 'mean'),\n",
    "        minLT=('lefLt', 'min'),\n",
    "        maxLT=('lefLt', 'max'),\n",
    "        meanLT=('lefLt', 'mean'),\n",
    "        minBT=('lefBt', 'min'),\n",
    "        maxBT=('lefBt', 'max'),\n",
    "        meanBT=('lefBt', 'mean'),\n",
    "        meanFrmAr=('frmAr', 'mean'),\n",
    "        meanFRM=('frmDov', 'mean')\n",
    "    ).reset_index()\n",
    "    dd_unique = dd.groupby('frmDist').agg(nn=('frmYearWeek', 'size')).reset_index()\n",
    "    dd_unique_list = dd_unique.query('nn >= 16')\n",
    "\n",
    "    # Filtering based on dd_unique_list\n",
    "    dd = dd[dd['frmDist'].isin(dd_unique_list['frmDist'])]\n",
    "\n",
    "    res = []\n",
    "    for frmDist in dd['frmDist'].unique():\n",
    "        tmp = dd[dd['frmDist'] == frmDist]\n",
    "        arr = tmp['Y'].values\n",
    "        start = (arr != 0).argmax()\n",
    "        real = tmp.iloc[(start - 8) : (start + 7)]\n",
    "\n",
    "        arr = real['Y'].values\n",
    "        for j in range(9, 15):\n",
    "            if arr[j] == 0:\n",
    "                arr[j] = (arr[j - 1] + arr[j + 1]) / 2\n",
    "\n",
    "        Y = arr[-1]\n",
    "        X = real.iloc[14, 3:].values\n",
    "        dataset = pd.DataFrame({'Y': [Y], 'X1': [X[0]], 'X2': [X[1]], 'X3': [X[2]], 'X4': [X[3]], 'X5': [X[4]], 'X6': [X[5]], 'X7': [X[6]],\n",
    "                                'X8': [X[7]], 'X9': [X[8]], 'X10': [X[9]], 'X11': [X[10]], 'X12': [X[11]], 'X13': [X[12]], 'X14': [X[13]],\n",
    "                                'X15': [X[14]],'X16': [X[15]],'X17': [X[16]],'X18': [X[17]], 'X19': [X[18]], 'X20': [X[19]], 'X21': [X[20]],\n",
    "                                'X22': [X[21]],'X23': [X[22]],'X24': [X[23]],'X25': [X[24]]})\n",
    "        res.append(dataset)\n",
    "\n",
    "    result = pd.concat(res, ignore_index=True)\n",
    "\n",
    "    # Filtering based on 'Y' column\n",
    "    result = result[result['Y'] >= 10]\n",
    "\n",
    "    # Scaling columns\n",
    "    #result['Y'] /= result['meanFrmAr']\n",
    "    #result['X1'] /= result['meanFrmAr']\n",
    "    #result['X2'] /= result['meanFrmAr']\n",
    "    #result['X3'] /= result['meanFrmAr']\n",
    "    #result['X4'] /= result['meanFrmAr']\n",
    "    #result['X5'] /= result['meanFrmAr']\n",
    "    #result['X6'] /= result['meanFrmAr']\n",
    "    #result['X7'] /= result['meanFrmAr']\n",
    "    \n",
    "    return result\n",
    "\n",
    "\n",
    "# ... (Data preprocessing code here)\n",
    "# input_data = input_data.drop(columns=['frmDist'])\n",
    "\n",
    "input_data = preprocessing(input_data)\n",
    "\n",
    "\n",
    "# Split the data into training and testing sets\n",
    "X = input_data[input_data.drop(columns=['Y']).columns]\n",
    "Y = input_data[['Y']]\n",
    "\n",
    "X_train, X_test, y_train, y_test = train_test_split(\n",
    "    X, Y, test_size=0.2, random_state=42\n",
    ")\n",
    "\n",
    "# scaler = StandardScaler()\n",
    "# scaler.fit(X_train)\n",
    "# X_train = scaler.transform(X_train)\n",
    "\n",
    "# Initialize and train the LinearRegression model\n",
    "model = LinearRegression()\n",
    "model.fit(X_train, y_train)\n",
    "\n",
    "# Predict 'y' values using the trained model\n",
    "# X_test= scaler.transform(X_test)\n",
    "y_pred = model.predict(X_test)\n",
    "\n",
    "\n",
    "# Calculate RMSE between the predictions and actual 'y' values\n",
    "def calculate_rmse(targets, predictions):\n",
    "    \"\"\"\n",
    "    Calculate the Root Mean Squared Error (RMSE) between predicted and target values.\n",
    "\n",
    "    :param predictions: Predicted values.\n",
    "    :type predictions: array-like\n",
    "    :param targets: Target values.\n",
    "    :type targets: array-like\n",
    "    :return: RMSE value.\n",
    "    :rtype: float\n",
    "    \"\"\"\n",
    "    from sklearn.metrics import mean_squared_error\n",
    "    return np.sqrt(mean_squared_error(targets, predictions))\n",
    "\n",
    "\n",
    "# Calculate r2_score between the predictions and actual 'y' values\n",
    "def calculate_R2_score(y_test,y_pred):\n",
    "    from sklearn.metrics import r2_score\n",
    "    return r2_score(y_test, y_pred)\n",
    "\n",
    "\n",
    "rmse = calculate_rmse(y_test, y_pred)\n",
    "r2score = calculate_R2_score(y_test, y_pred)\n",
    "\n",
    "### OUTPUT ###\n",
    "print(\"RMSE:\", rmse)\n",
    "print(\"R2_score:\", r2score)"
   ]
  },
  {
   "cell_type": "code",
   "execution_count": null,
   "id": "f31667c1-46ea-4811-957b-d6fab1a5dbae",
   "metadata": {
    "tags": []
   },
   "outputs": [],
   "source": []
  },
  {
   "cell_type": "code",
   "execution_count": null,
   "id": "4d519543-c613-4014-a2a8-fded9e8cb6f9",
   "metadata": {
    "tags": []
   },
   "outputs": [],
   "source": []
  },
  {
   "cell_type": "code",
   "execution_count": null,
   "id": "a061ffdf-226d-4509-8ad5-36cc44104da5",
   "metadata": {
    "tags": []
   },
   "outputs": [],
   "source": []
  },
  {
   "cell_type": "code",
   "execution_count": null,
   "id": "18483f6a-3f93-4f0e-9158-9bc584fa5908",
   "metadata": {
    "tags": []
   },
   "outputs": [],
   "source": []
  },
  {
   "cell_type": "code",
   "execution_count": null,
   "id": "376fedcf-c1b1-43b4-8cb9-6b16c78d0aa1",
   "metadata": {
    "tags": []
   },
   "outputs": [],
   "source": []
  },
  {
   "cell_type": "code",
   "execution_count": null,
   "id": "349e4c5b-c538-4df9-ba2a-6eaabafacfd7",
   "metadata": {},
   "outputs": [],
   "source": []
  },
  {
   "cell_type": "code",
   "execution_count": null,
   "id": "94af4938-bc19-4ef6-89b9-c6ec0892d188",
   "metadata": {},
   "outputs": [],
   "source": []
  },
  {
   "cell_type": "code",
   "execution_count": null,
   "id": "bb4269ba-9941-4ca1-8ab0-db596fe87789",
   "metadata": {},
   "outputs": [],
   "source": []
  },
  {
   "cell_type": "code",
   "execution_count": null,
   "id": "b7a0b863-6cc2-4fdd-bbdf-80b6dca85e45",
   "metadata": {},
   "outputs": [],
   "source": []
  }
 ],
 "metadata": {
  "kernelspec": {
   "display_name": "Python 3 (ipykernel)",
   "language": "python",
   "name": "python3"
  },
  "language_info": {
   "codemirror_mode": {
    "name": "ipython",
    "version": 3
   },
   "file_extension": ".py",
   "mimetype": "text/x-python",
   "name": "python",
   "nbconvert_exporter": "python",
   "pygments_lexer": "ipython3",
   "version": "3.11.4"
  }
 },
 "nbformat": 4,
 "nbformat_minor": 5
}
